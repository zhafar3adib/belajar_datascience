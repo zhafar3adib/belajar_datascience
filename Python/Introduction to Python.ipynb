{
  "nbformat": 4,
  "nbformat_minor": 0,
  "metadata": {
    "colab": {
      "name": "Week 3 - Session 9.ipynb",
      "provenance": [],
      "collapsed_sections": []
    },
    "kernelspec": {
      "name": "python3",
      "display_name": "Python 3"
    },
    "language_info": {
      "name": "python"
    }
  },
  "cells": [
    {
      "cell_type": "code",
      "source": [
        "name = 'zhafar'"
      ],
      "metadata": {
        "id": "fFJUyTW1puLr"
      },
      "execution_count": null,
      "outputs": []
    },
    {
      "cell_type": "code",
      "execution_count": null,
      "metadata": {
        "colab": {
          "base_uri": "https://localhost:8080/"
        },
        "id": "SUrhUT3upj_C",
        "outputId": "830f66a4-ee09-4c95-e2b9-cdb92b3d82c5"
      },
      "outputs": [
        {
          "output_type": "stream",
          "name": "stdout",
          "text": [
            "zhafar\n"
          ]
        }
      ],
      "source": [
        "print (name)"
      ]
    },
    {
      "cell_type": "code",
      "source": [
        "angka = 2000"
      ],
      "metadata": {
        "id": "m1xRlcejsq6H"
      },
      "execution_count": null,
      "outputs": []
    },
    {
      "cell_type": "code",
      "source": [
        "print(angka/1)"
      ],
      "metadata": {
        "colab": {
          "base_uri": "https://localhost:8080/"
        },
        "id": "pGoHBG3ns8sU",
        "outputId": "6dd4033f-6390-48e0-da10-3c65759d3965"
      },
      "execution_count": null,
      "outputs": [
        {
          "output_type": "stream",
          "name": "stdout",
          "text": [
            "2.0\n"
          ]
        }
      ]
    },
    {
      "cell_type": "code",
      "source": [
        "print(type(angka))"
      ],
      "metadata": {
        "colab": {
          "base_uri": "https://localhost:8080/"
        },
        "id": "o3CWk37ys_n3",
        "outputId": "e32c2eb9-8b02-4b86-e8d1-55494faea09e"
      },
      "execution_count": null,
      "outputs": [
        {
          "output_type": "stream",
          "name": "stdout",
          "text": [
            "<class 'float'>\n"
          ]
        }
      ]
    },
    {
      "cell_type": "code",
      "source": [
        "penjumlahan = 1 + 2"
      ],
      "metadata": {
        "id": "h9fTCQBgtgz2"
      },
      "execution_count": null,
      "outputs": []
    },
    {
      "cell_type": "code",
      "source": [
        "print(type(penjumlahan))"
      ],
      "metadata": {
        "colab": {
          "base_uri": "https://localhost:8080/"
        },
        "id": "9o12aUDhuB7x",
        "outputId": "ee2788f9-4649-45d9-aadd-fe467d8dd53f"
      },
      "execution_count": null,
      "outputs": [
        {
          "output_type": "stream",
          "name": "stdout",
          "text": [
            "<class 'int'>\n"
          ]
        }
      ]
    },
    {
      "cell_type": "code",
      "source": [
        "print(penjumlahan)"
      ],
      "metadata": {
        "colab": {
          "base_uri": "https://localhost:8080/"
        },
        "id": "IAluHmfst17v",
        "outputId": "ee77506b-6add-4920-8e34-ea66d7df1f93"
      },
      "execution_count": null,
      "outputs": [
        {
          "output_type": "stream",
          "name": "stdout",
          "text": [
            "3\n"
          ]
        }
      ]
    },
    {
      "cell_type": "code",
      "source": [
        "penjumlahan += 5"
      ],
      "metadata": {
        "id": "lrwYtIFquGw0"
      },
      "execution_count": null,
      "outputs": []
    },
    {
      "cell_type": "code",
      "source": [
        "penjumlahan"
      ],
      "metadata": {
        "colab": {
          "base_uri": "https://localhost:8080/"
        },
        "id": "1TAaeaotuP68",
        "outputId": "9ed95573-9be3-43b6-d842-6205d73262ef"
      },
      "execution_count": null,
      "outputs": [
        {
          "output_type": "execute_result",
          "data": {
            "text/plain": [
              "8"
            ]
          },
          "metadata": {},
          "execution_count": 21
        }
      ]
    },
    {
      "cell_type": "code",
      "source": [
        "pengurangan = penjumlahan - 5"
      ],
      "metadata": {
        "id": "Jk6tnKYkvZww"
      },
      "execution_count": null,
      "outputs": []
    },
    {
      "cell_type": "code",
      "source": [
        "pengurangan"
      ],
      "metadata": {
        "colab": {
          "base_uri": "https://localhost:8080/"
        },
        "id": "VJYLeWrUvgKC",
        "outputId": "27ad3a14-7d59-467a-a0ae-f70547b00f90"
      },
      "execution_count": null,
      "outputs": [
        {
          "output_type": "execute_result",
          "data": {
            "text/plain": [
              "3"
            ]
          },
          "metadata": {},
          "execution_count": 24
        }
      ]
    },
    {
      "cell_type": "code",
      "source": [
        "complex_arith = 8+2*5-1/2\n"
      ],
      "metadata": {
        "id": "0zFAOGE1wJ8P"
      },
      "execution_count": null,
      "outputs": []
    },
    {
      "cell_type": "code",
      "source": [
        "complex_arith"
      ],
      "metadata": {
        "colab": {
          "base_uri": "https://localhost:8080/"
        },
        "id": "_p-E5s1NwSLw",
        "outputId": "3e8e128e-c38a-4f8a-8d7a-44d35c211c10"
      },
      "execution_count": null,
      "outputs": [
        {
          "output_type": "execute_result",
          "data": {
            "text/plain": [
              "17.5"
            ]
          },
          "metadata": {},
          "execution_count": 32
        }
      ]
    },
    {
      "cell_type": "code",
      "source": [
        "contoh = 5%2*3"
      ],
      "metadata": {
        "id": "5zgrQPf3wxBG"
      },
      "execution_count": null,
      "outputs": []
    },
    {
      "cell_type": "code",
      "source": [
        "contoh"
      ],
      "metadata": {
        "colab": {
          "base_uri": "https://localhost:8080/"
        },
        "id": "lzIQL7Hdw1KA",
        "outputId": "074bf6df-bcca-4b63-8c3c-c5735551f910"
      },
      "execution_count": null,
      "outputs": [
        {
          "output_type": "execute_result",
          "data": {
            "text/plain": [
              "3"
            ]
          },
          "metadata": {},
          "execution_count": 35
        }
      ]
    },
    {
      "cell_type": "code",
      "source": [
        "absen = 11"
      ],
      "metadata": {
        "id": "0ge0Xu8-yrpO"
      },
      "execution_count": null,
      "outputs": []
    },
    {
      "cell_type": "code",
      "source": [
        "if absen % 2 == 0:\n",
        "  print('bilangan ini genap')\n",
        "else: print('bilangan ini ganjil')"
      ],
      "metadata": {
        "colab": {
          "base_uri": "https://localhost:8080/"
        },
        "id": "E4btowmcyTet",
        "outputId": "12a5953a-caa9-44ae-a59b-c8a6f55a1255"
      },
      "execution_count": null,
      "outputs": [
        {
          "output_type": "stream",
          "name": "stdout",
          "text": [
            "bilangan ini ganjil\n"
          ]
        }
      ]
    },
    {
      "cell_type": "code",
      "source": [
        "for i in range (0,9):\n",
        "  if i % 2 != 0:\n",
        "    print(i)\n",
        "  else:\n",
        "    print('ini genap')"
      ],
      "metadata": {
        "colab": {
          "base_uri": "https://localhost:8080/"
        },
        "id": "MyADU2f_zKrR",
        "outputId": "fce9c76f-ac77-4f29-9114-525d89b26208"
      },
      "execution_count": null,
      "outputs": [
        {
          "output_type": "stream",
          "name": "stdout",
          "text": [
            "ini genap\n",
            "1\n",
            "ini genap\n",
            "3\n",
            "ini genap\n",
            "5\n",
            "ini genap\n",
            "7\n",
            "ini genap\n"
          ]
        }
      ]
    },
    {
      "cell_type": "code",
      "source": [
        "nama = 'oke'\n",
        "asal = 'merauke'\n",
        "umur = 19"
      ],
      "metadata": {
        "id": "CUFKlCc80bvQ"
      },
      "execution_count": null,
      "outputs": []
    },
    {
      "cell_type": "code",
      "source": [
        "print(nama)"
      ],
      "metadata": {
        "colab": {
          "base_uri": "https://localhost:8080/"
        },
        "id": "t---7Gj704UI",
        "outputId": "419deb0b-427b-46d9-d0b6-1ea9b59a1714"
      },
      "execution_count": null,
      "outputs": [
        {
          "output_type": "stream",
          "name": "stdout",
          "text": [
            "oke\n"
          ]
        }
      ]
    },
    {
      "cell_type": "code",
      "source": [
        "print(asal)"
      ],
      "metadata": {
        "colab": {
          "base_uri": "https://localhost:8080/"
        },
        "id": "UorKeXnt064A",
        "outputId": "37cdc184-4b7b-4364-a978-380f7c7bcba4"
      },
      "execution_count": null,
      "outputs": [
        {
          "output_type": "stream",
          "name": "stdout",
          "text": [
            "merauke\n"
          ]
        }
      ]
    },
    {
      "cell_type": "code",
      "source": [
        ""
      ],
      "metadata": {
        "id": "MOwkYXwU3z9b"
      },
      "execution_count": null,
      "outputs": []
    },
    {
      "cell_type": "code",
      "source": [
        "print(nama[2])\n",
        "#print index ke 2 dari nama"
      ],
      "metadata": {
        "colab": {
          "base_uri": "https://localhost:8080/"
        },
        "id": "w4GLaRo10-JO",
        "outputId": "61343188-14f3-43ef-81af-450422c4d6c5"
      },
      "execution_count": null,
      "outputs": [
        {
          "output_type": "stream",
          "name": "stdout",
          "text": [
            "e\n"
          ]
        }
      ]
    },
    {
      "cell_type": "code",
      "source": [
        "for index, value in enumerate(nama):\n",
        "  if index % 2 != 0:\n",
        "    print(value)"
      ],
      "metadata": {
        "colab": {
          "base_uri": "https://localhost:8080/"
        },
        "id": "wVnXf2hO1NAm",
        "outputId": "48eb8ef1-0a0e-4293-9db0-25da90ba24f5"
      },
      "execution_count": null,
      "outputs": [
        {
          "output_type": "stream",
          "name": "stdout",
          "text": [
            "k\n"
          ]
        }
      ]
    },
    {
      "cell_type": "code",
      "source": [
        "print (\"nama saya \" + nama.capitalize() + \", dan saya tinggal di  \" + asal + \" sekarang berusia \" + str(umur))\n",
        "#kalo mau ngeprint int di tengah2 string harus diubah dulu ke string"
      ],
      "metadata": {
        "colab": {
          "base_uri": "https://localhost:8080/"
        },
        "id": "y4Kr72K-26JJ",
        "outputId": "a22abd8a-e07e-4273-a614-4c3aa1d7b257"
      },
      "execution_count": null,
      "outputs": [
        {
          "output_type": "stream",
          "name": "stdout",
          "text": [
            "nama saya Oke, dan saya tinggal di  merauke sekarang berusia 19\n"
          ]
        }
      ]
    },
    {
      "cell_type": "code",
      "source": [
        "genap = [2,4,6,8]"
      ],
      "metadata": {
        "id": "02J316BQ3Mb3"
      },
      "execution_count": null,
      "outputs": []
    },
    {
      "cell_type": "code",
      "source": [
        "genap"
      ],
      "metadata": {
        "colab": {
          "base_uri": "https://localhost:8080/"
        },
        "id": "0YCuy2le6NiV",
        "outputId": "27a1a8ed-a48f-446d-89c3-4c9aad9bbb28"
      },
      "execution_count": null,
      "outputs": [
        {
          "output_type": "execute_result",
          "data": {
            "text/plain": [
              "[2, 4, 6, 8]"
            ]
          },
          "metadata": {},
          "execution_count": 86
        }
      ]
    },
    {
      "cell_type": "code",
      "source": [
        "genap.append(10)"
      ],
      "metadata": {
        "id": "GRwS0q_u5XdO"
      },
      "execution_count": null,
      "outputs": []
    },
    {
      "cell_type": "code",
      "source": [
        "genap.index(6)"
      ],
      "metadata": {
        "colab": {
          "base_uri": "https://localhost:8080/"
        },
        "id": "hRwPdgWi5_Cr",
        "outputId": "5b5c0068-8825-40dc-b8f2-2c49cd1e5b57"
      },
      "execution_count": null,
      "outputs": [
        {
          "output_type": "execute_result",
          "data": {
            "text/plain": [
              "2"
            ]
          },
          "metadata": {},
          "execution_count": 83
        }
      ]
    },
    {
      "cell_type": "code",
      "source": [
        "genap.remove(10)"
      ],
      "metadata": {
        "id": "Bq4Mfdau6Fg_"
      },
      "execution_count": null,
      "outputs": []
    },
    {
      "cell_type": "code",
      "source": [
        "detail1 = {\"nama\":\"zhafar\",\"umur\":21,\n",
        "          \"asal\":asal}"
      ],
      "metadata": {
        "id": "2FkhAfMnv_OV"
      },
      "execution_count": null,
      "outputs": []
    },
    {
      "cell_type": "code",
      "source": [
        "detail"
      ],
      "metadata": {
        "colab": {
          "base_uri": "https://localhost:8080/"
        },
        "id": "BfaHD00Q6ywm",
        "outputId": "f7ed7fe3-ac64-4851-e936-3a2db1dd699a"
      },
      "execution_count": null,
      "outputs": [
        {
          "output_type": "execute_result",
          "data": {
            "text/plain": [
              "{'asal': 'merauke', 'nama': 'zhafar', 'umur': 21}"
            ]
          },
          "metadata": {},
          "execution_count": 90
        }
      ]
    },
    {
      "cell_type": "code",
      "source": [
        "detail['nama']"
      ],
      "metadata": {
        "colab": {
          "base_uri": "https://localhost:8080/",
          "height": 35
        },
        "id": "tz9c_jqo60dX",
        "outputId": "4ef15e43-dfbe-4b2e-b5e4-ac7dae444464"
      },
      "execution_count": null,
      "outputs": [
        {
          "output_type": "execute_result",
          "data": {
            "application/vnd.google.colaboratory.intrinsic+json": {
              "type": "string"
            },
            "text/plain": [
              "'zhafar'"
            ]
          },
          "metadata": {},
          "execution_count": 92
        }
      ]
    },
    {
      "cell_type": "code",
      "source": [
        "detail2 = {\"nama\":\"tri\",\"umur\":20,\n",
        "          \"asal\":\"bogor\"}"
      ],
      "metadata": {
        "id": "BlCzllwr67Kv"
      },
      "execution_count": null,
      "outputs": []
    },
    {
      "cell_type": "code",
      "source": [
        "detail_gabungan=[detail1,detail2]"
      ],
      "metadata": {
        "id": "St82PJgr7eYO"
      },
      "execution_count": null,
      "outputs": []
    },
    {
      "cell_type": "code",
      "source": [
        "detail_gabungan"
      ],
      "metadata": {
        "colab": {
          "base_uri": "https://localhost:8080/"
        },
        "id": "ZNlnSu7m7rrI",
        "outputId": "6621637f-ac39-40b3-e862-f207a4d26e5a"
      },
      "execution_count": null,
      "outputs": [
        {
          "output_type": "execute_result",
          "data": {
            "text/plain": [
              "[{'asal': 'merauke', 'nama': 'zhafar', 'umur': 21},\n",
              " {'asal': 'bogor', 'nama': 'tri', 'umur': 20}]"
            ]
          },
          "metadata": {},
          "execution_count": 102
        }
      ]
    },
    {
      "cell_type": "code",
      "source": [
        "for i in detail_gabungan:\n",
        "  print(i['nama'])"
      ],
      "metadata": {
        "colab": {
          "base_uri": "https://localhost:8080/"
        },
        "id": "0XSBNoNY7tXG",
        "outputId": "7859ef71-fa63-4d13-db04-2e08d7d54c2a"
      },
      "execution_count": null,
      "outputs": [
        {
          "output_type": "stream",
          "name": "stdout",
          "text": [
            "zhafar\n",
            "tri\n"
          ]
        }
      ]
    },
    {
      "cell_type": "code",
      "source": [
        "contoh_set = {1,2,'g','o'}"
      ],
      "metadata": {
        "id": "sqkMP_Ea70mo"
      },
      "execution_count": null,
      "outputs": []
    },
    {
      "cell_type": "code",
      "source": [
        "contoh_set"
      ],
      "metadata": {
        "colab": {
          "base_uri": "https://localhost:8080/"
        },
        "id": "HrkA9h8rozQN",
        "outputId": "73f87d7b-4e05-4236-b6b2-f443ef337d62"
      },
      "execution_count": null,
      "outputs": [
        {
          "output_type": "execute_result",
          "data": {
            "text/plain": [
              "{1, 2, 'g', 'o'}"
            ]
          },
          "metadata": {},
          "execution_count": 6
        }
      ]
    },
    {
      "cell_type": "code",
      "source": [
        "contoh_tuple = (1,2,'asd')"
      ],
      "metadata": {
        "id": "tZw1IFS3rKRH"
      },
      "execution_count": null,
      "outputs": []
    },
    {
      "cell_type": "code",
      "source": [
        "contoh_tuple"
      ],
      "metadata": {
        "id": "RGEWGPIhrNzz",
        "outputId": "af24ac70-bb33-432f-8a01-be9f008d3864",
        "colab": {
          "base_uri": "https://localhost:8080/"
        }
      },
      "execution_count": null,
      "outputs": [
        {
          "output_type": "execute_result",
          "data": {
            "text/plain": [
              "(1, 2, 'asd')"
            ]
          },
          "metadata": {},
          "execution_count": 9
        }
      ]
    }
  ]
}