{
  "nbformat": 4,
  "nbformat_minor": 0,
  "metadata": {
    "colab": {
      "name": "Week 4 - Session 11",
      "provenance": []
    },
    "kernelspec": {
      "name": "python3",
      "display_name": "Python 3"
    },
    "language_info": {
      "name": "python"
    }
  },
  "cells": [
    {
      "cell_type": "code",
      "execution_count": null,
      "metadata": {
        "colab": {
          "base_uri": "https://localhost:8080/"
        },
        "id": "ImtqpPjYQWnW",
        "outputId": "20165baf-b009-4bc1-ec08-98d5e6a98950"
      },
      "outputs": [
        {
          "output_type": "stream",
          "name": "stdout",
          "text": [
            "index ke : 0\n",
            "index ke : 1\n",
            "index ke : 2\n",
            "index ke : 3\n",
            "index ke : 4\n",
            "index ke : 5\n",
            "index ke : 6\n",
            "index ke : 7\n",
            "index ke : 8\n",
            "index ke : 9\n"
          ]
        }
      ],
      "source": [
        "# for - number of times\n",
        "for i in range(0,10): #kalo pake range, angka terakhir diabaikan\n",
        "  print('index ke :', i)\n",
        "\n",
        "#i = variable bebas\n",
        "#for <variable> in range(start, end):\n",
        "  #(statement)"
      ]
    },
    {
      "cell_type": "code",
      "source": [
        "#contoh\n",
        "index = 0\n",
        "nama_siswa=['zhafar','tri','bayu']\n",
        "\n",
        "for i in nama_siswa:\n",
        "  index += 1\n",
        "  print('absen ke', index)\n",
        "  print(i)"
      ],
      "metadata": {
        "colab": {
          "base_uri": "https://localhost:8080/"
        },
        "id": "kDGw854lXdoP",
        "outputId": "b6fce2a9-0576-4a53-b96f-26e70e2c82e8"
      },
      "execution_count": null,
      "outputs": [
        {
          "output_type": "stream",
          "name": "stdout",
          "text": [
            "absen ke 1\n",
            "zhafar\n",
            "absen ke 2\n",
            "tri\n",
            "absen ke 3\n",
            "bayu\n"
          ]
        }
      ]
    },
    {
      "cell_type": "code",
      "source": [
        "#array terdiri dari key dan value / bisa dibilang dictionary\n",
        "data_siswa={'name':['zhafar','tri','bayu'], 'absen':[1,2,3]}\n",
        "#contoh iterasi untuk dictionary\n",
        "for key, value in data_siswa.items():\n",
        "  print (key, value)"
      ],
      "metadata": {
        "colab": {
          "base_uri": "https://localhost:8080/"
        },
        "id": "Ro7CmB1YYcNu",
        "outputId": "3bef10e9-3faa-4398-eb98-031fc3e21b73"
      },
      "execution_count": null,
      "outputs": [
        {
          "output_type": "stream",
          "name": "stdout",
          "text": [
            "name ['zhafar', 'tri', 'bayu']\n",
            "absen [1, 2, 3]\n"
          ]
        }
      ]
    },
    {
      "cell_type": "code",
      "source": [
        "#contoh iterasi dictionary di dalam list\n",
        "data_siswa = [{'nama':'zhafar','absen':1},\n",
        "              {'nama':'tri','absen':2},\n",
        "              {'nama':'adib','absen':3}]\n",
        "\n",
        "for item in data_siswa:\n",
        "  for key, value in item.items(): #ini yang jalan duluan\n",
        "    print(key, value)\n",
        "  print('\\n')"
      ],
      "metadata": {
        "colab": {
          "base_uri": "https://localhost:8080/"
        },
        "id": "RpYEFnQJZ4Uv",
        "outputId": "a18a4d25-9bf4-486a-9654-d448b914e895"
      },
      "execution_count": null,
      "outputs": [
        {
          "output_type": "stream",
          "name": "stdout",
          "text": [
            "nama zhafar\n",
            "absen 1\n",
            "\n",
            "\n",
            "nama tri\n",
            "absen 2\n",
            "\n",
            "\n",
            "nama adib\n",
            "absen 3\n",
            "\n",
            "\n"
          ]
        }
      ]
    },
    {
      "cell_type": "code",
      "source": [
        "for i in range(0,10): \n",
        "  print('index ke :', i+1)"
      ],
      "metadata": {
        "colab": {
          "base_uri": "https://localhost:8080/"
        },
        "id": "vpNydtiibrev",
        "outputId": "649f863c-08ff-4599-996a-333d4c80d044"
      },
      "execution_count": null,
      "outputs": [
        {
          "output_type": "stream",
          "name": "stdout",
          "text": [
            "index ke : 1\n",
            "index ke : 2\n",
            "index ke : 3\n",
            "index ke : 4\n",
            "index ke : 5\n",
            "index ke : 6\n",
            "index ke : 7\n",
            "index ke : 8\n",
            "index ke : 9\n",
            "index ke : 10\n"
          ]
        }
      ]
    },
    {
      "cell_type": "code",
      "source": [
        "# kalo 10 = salah\n",
        "index = 0\n",
        "while index <10:\n",
        "  index +=1\n",
        "  print(index)"
      ],
      "metadata": {
        "colab": {
          "base_uri": "https://localhost:8080/"
        },
        "id": "HcCUB8WhfO0B",
        "outputId": "4238a039-18a2-4adf-f729-c9942a072857"
      },
      "execution_count": null,
      "outputs": [
        {
          "output_type": "stream",
          "name": "stdout",
          "text": [
            "1\n",
            "2\n",
            "3\n",
            "4\n",
            "5\n",
            "6\n",
            "7\n",
            "8\n",
            "9\n",
            "10\n",
            "11\n",
            "12\n",
            "13\n"
          ]
        }
      ]
    },
    {
      "cell_type": "code",
      "source": [
        "angka10 = False\n",
        "index = 0\n",
        "while angka10 == False:\n",
        "  index += 1\n",
        "  print(index)\n",
        "  if index == 10:\n",
        "    angka10 = True"
      ],
      "metadata": {
        "colab": {
          "base_uri": "https://localhost:8080/"
        },
        "id": "THHoY7azfvub",
        "outputId": "aac37493-e735-47da-9e4f-28b577f92b24"
      },
      "execution_count": null,
      "outputs": [
        {
          "output_type": "stream",
          "name": "stdout",
          "text": [
            "1\n",
            "2\n",
            "3\n",
            "4\n",
            "5\n",
            "6\n",
            "7\n",
            "8\n",
            "9\n",
            "10\n"
          ]
        }
      ]
    },
    {
      "cell_type": "code",
      "source": [
        "#print angka ganjil di antara range\n",
        "for i in range(0,20):\n",
        "  i += 1\n",
        "  if (i%2) != 0:\n",
        "    print(i,'adalah bilangan ganjil')"
      ],
      "metadata": {
        "colab": {
          "base_uri": "https://localhost:8080/"
        },
        "id": "02QSZ5Z0hluU",
        "outputId": "4b471c99-65a4-4f11-fd9f-11536c9f6de5"
      },
      "execution_count": null,
      "outputs": [
        {
          "output_type": "stream",
          "name": "stdout",
          "text": [
            "1 adalah bilangan ganjil\n",
            "3 adalah bilangan ganjil\n",
            "5 adalah bilangan ganjil\n",
            "7 adalah bilangan ganjil\n",
            "9 adalah bilangan ganjil\n",
            "11 adalah bilangan ganjil\n",
            "13 adalah bilangan ganjil\n",
            "15 adalah bilangan ganjil\n",
            "17 adalah bilangan ganjil\n",
            "19 adalah bilangan ganjil\n"
          ]
        }
      ]
    },
    {
      "cell_type": "code",
      "source": [
        "#print angka ganjil dari 1-200 pake while\n",
        "angka = 0\n",
        "jumlah = 0\n",
        "while jumlah != 200:\n",
        "    if angka % 2 == 1:\n",
        "        print(angka)\n",
        "    angka += 1\n",
        "    jumlah += 1\n"
      ],
      "metadata": {
        "id": "fxhgOpFJigOC"
      },
      "execution_count": null,
      "outputs": []
    },
    {
      "cell_type": "code",
      "source": [
        "#200 angka ganjil pertama\n",
        "count = 0\n",
        "total = 0\n",
        "\n",
        "final = False\n",
        "while (final == False):\n",
        "\n",
        "  if (total == 200):\n",
        "    final = True\n",
        "\n",
        "  if (count % 2 == 1):\n",
        "    print(count)\n",
        "    total += 1\n",
        "  \n",
        "  count += 1\n"
      ],
      "metadata": {
        "id": "BYLbmDzvkOW3"
      },
      "execution_count": null,
      "outputs": []
    },
    {
      "cell_type": "code",
      "source": [
        "#200 angka ganjil pertama\n",
        "trigger = True\n",
        "counter_bilangan = 0\n",
        "counter_bilangan_ganjil = 0\n",
        "\n",
        "while trigger :\n",
        "  counter_bilangan += 1\n",
        "  if counter_bilangan%2 != 0:\n",
        "    print(counter_bilangan)\n",
        "    counter_bilangan_ganjil +=1\n",
        "\n",
        "  if counter_bilangan_ganjil ==200:\n",
        "    trigger = False"
      ],
      "metadata": {
        "id": "ncxX5CVlkuqi"
      },
      "execution_count": null,
      "outputs": []
    },
    {
      "cell_type": "code",
      "source": [
        "#mencari bilangan fibonacchi kurang dari 20\n",
        "n1 = 0\n",
        "n2 = 1\n",
        "penampung = 1\n",
        "trigger = True\n",
        "\n",
        "while trigger:\n",
        "  if penampung < 20:\n",
        "    print(penampung)\n",
        "  else:\n",
        "    trigger = False\n",
        "  penampung = n1+n2\n",
        "  n1 = n2\n",
        "  n2 = penampung\n",
        "\n"
      ],
      "metadata": {
        "id": "mwHrlR0Tn0JF"
      },
      "execution_count": null,
      "outputs": []
    },
    {
      "cell_type": "code",
      "source": [
        "#cari fibonachi juga\n",
        "a = 0\n",
        "b = 1\n",
        "c = 0\n",
        "\n",
        "while c <= 100:\n",
        "  c = a + b\n",
        "  a = b\n",
        "  b = c\n",
        "\n",
        "  print(a)\n"
      ],
      "metadata": {
        "id": "dRGR6K12qaGu",
        "colab": {
          "base_uri": "https://localhost:8080/"
        },
        "outputId": "bdf62517-e242-45b6-9662-cc5f24e6e7ce"
      },
      "execution_count": null,
      "outputs": [
        {
          "output_type": "stream",
          "name": "stdout",
          "text": [
            "1\n",
            "1\n",
            "2\n",
            "3\n",
            "5\n",
            "8\n",
            "13\n",
            "21\n",
            "34\n",
            "55\n",
            "89\n"
          ]
        }
      ]
    },
    {
      "cell_type": "code",
      "source": [
        "#print bilangan prima dari 1-100\n",
        "for Number in range (0, 100):\n",
        "    Number += 1\n",
        "    count = 0\n",
        "    for i in range(2, (Number//2 + 1)):\n",
        "        if(Number % i == 0):\n",
        "            count += 1\n",
        "            break\n",
        "\n",
        "    if (count == 0 and Number != 1):\n",
        "        print(Number)"
      ],
      "metadata": {
        "id": "XCspnxNprJH9"
      },
      "execution_count": null,
      "outputs": []
    },
    {
      "cell_type": "code",
      "source": [
        "#ngecek bilangan prima atau bukan\n",
        "num = 5\n",
        "for i in range(2,num):\n",
        "    if (num % i) == 0:\n",
        "      print (num, 'bukan prima')\n",
        "      break\n",
        "else:\n",
        "  print(num, 'bilangan prima')\n",
        "\n",
        "\n",
        "\n"
      ],
      "metadata": {
        "colab": {
          "base_uri": "https://localhost:8080/"
        },
        "id": "g2kbfqOyvxe7",
        "outputId": "3c71c1a0-fe3a-4f27-d1cb-4e580b1d2f3d"
      },
      "execution_count": null,
      "outputs": [
        {
          "output_type": "stream",
          "name": "stdout",
          "text": [
            "5 bilangan prima\n"
          ]
        }
      ]
    },
    {
      "cell_type": "code",
      "source": [
        "n = 50 #50 prima pertama\n",
        "c = 2 #2 adalah bilangan prima paling awal\n",
        "while n !=0:\n",
        "  for i in range(2,c):\n",
        "    if c%i==0:\n",
        "      break\n",
        "  else:\n",
        "    print(c)\n",
        "    n -= 1\n",
        "  c += 1"
      ],
      "metadata": {
        "id": "84_TRZNX4tPU",
        "colab": {
          "base_uri": "https://localhost:8080/"
        },
        "outputId": "78a56c35-8176-4994-be4f-6a2ee77e3a07"
      },
      "execution_count": null,
      "outputs": [
        {
          "output_type": "stream",
          "name": "stdout",
          "text": [
            "2\n",
            "3\n",
            "5\n",
            "7\n",
            "11\n",
            "13\n",
            "17\n",
            "19\n",
            "23\n",
            "29\n",
            "31\n",
            "37\n",
            "41\n",
            "43\n",
            "47\n",
            "53\n",
            "59\n",
            "61\n",
            "67\n",
            "71\n",
            "73\n",
            "79\n",
            "83\n",
            "89\n",
            "97\n",
            "101\n",
            "103\n",
            "107\n",
            "109\n",
            "113\n",
            "127\n",
            "131\n",
            "137\n",
            "139\n",
            "149\n",
            "151\n",
            "157\n",
            "163\n",
            "167\n",
            "173\n",
            "179\n",
            "181\n",
            "191\n",
            "193\n",
            "197\n",
            "199\n",
            "211\n",
            "223\n",
            "227\n",
            "229\n"
          ]
        }
      ]
    }
  ]
}