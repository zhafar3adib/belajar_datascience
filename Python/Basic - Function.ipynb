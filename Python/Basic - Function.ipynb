{
  "nbformat": 4,
  "nbformat_minor": 0,
  "metadata": {
    "colab": {
      "name": "Week 5 - Session 13",
      "provenance": []
    },
    "kernelspec": {
      "name": "python3",
      "display_name": "Python 3"
    },
    "language_info": {
      "name": "python"
    }
  },
  "cells": [
    {
      "cell_type": "code",
      "execution_count": null,
      "metadata": {
        "id": "lv_sT2vYD3MD"
      },
      "outputs": [],
      "source": [
        "#cek bilangan ganjil apa bukan\n",
        "input_mysql = 10\n",
        "if input_mysql % 2 != 0:\n",
        "  print('ini ganjil')\n",
        "else:\n",
        "  print('ini genap')\n",
        "\n",
        "input_postgresql = 11\n",
        "if input_postgresql % 2 != 0:\n",
        "  print('ini ganjil')\n",
        "else:\n",
        "  print('ini genap')\n",
        "#kalo seperti ini kan repot ngetik if nya lagi"
      ]
    },
    {
      "cell_type": "code",
      "source": [
        "def cek_ganjil(input_bilangan):\n",
        "  if input_bilangan % 2 != 0:\n",
        "    print('ini ganjil')\n",
        "  else:\n",
        "    print('ini genap')"
      ],
      "metadata": {
        "id": "usQVxaW3PMIq"
      },
      "execution_count": null,
      "outputs": []
    },
    {
      "cell_type": "code",
      "source": [
        "cek_ganjil(input_mysql)\n",
        "cek_ganjil(input_postgresql)"
      ],
      "metadata": {
        "id": "Nv16w_WUPqhD"
      },
      "execution_count": null,
      "outputs": []
    },
    {
      "cell_type": "code",
      "source": [
        "#contoh return\n",
        "def cek_genap(input_bilangan):\n",
        "  if input_bilangan % 2 == 0:\n",
        "    return True\n",
        "  else:\n",
        "    return False\n",
        "#kalo pake return, outputnya bisa di assign lagi ke variabel lain\n",
        "#emang umumnya pake return drpd print, soalnya kalo print gabisa di assign lagi"
      ],
      "metadata": {
        "id": "GAdOiyyhP96m"
      },
      "execution_count": null,
      "outputs": []
    },
    {
      "cell_type": "code",
      "source": [
        "cek_genap(input_mysql)"
      ],
      "metadata": {
        "id": "mvOC3lF9QS_8"
      },
      "execution_count": null,
      "outputs": []
    },
    {
      "cell_type": "code",
      "source": [
        "cek_genap(input_postgresql)"
      ],
      "metadata": {
        "id": "9xYgTsPEQZxD"
      },
      "execution_count": null,
      "outputs": []
    },
    {
      "cell_type": "code",
      "source": [
        "def luas_persegi(sisi):\n",
        "  return sisi*sisi"
      ],
      "metadata": {
        "id": "8NFU1xsDQ1RV"
      },
      "execution_count": null,
      "outputs": []
    },
    {
      "cell_type": "code",
      "source": [
        "sisi = 3\n",
        "persegi1 = luas_persegi(sisi)\n",
        "hasilnya = 'luas persegi adalah',persegi1\n",
        "hasilnya"
      ],
      "metadata": {
        "id": "IQcsubt-RCs8"
      },
      "execution_count": null,
      "outputs": []
    },
    {
      "cell_type": "code",
      "source": [
        "#kasih docstring biar orang lain tau deskripsi dari function ini\n",
        "def describe_persegi_panjang(panjang, lebar):\n",
        "  \"\"\"\n",
        "  tujuaan dari function ini adalah \n",
        "  return value luas bangun persegi_panjang\n",
        "  dan return value keliling persegi panjang\n",
        "  \"\"\"\n",
        "  luas = panjang*lebar\n",
        "  keliling = 2*(panjang+lebar)\n",
        "  return luas, keliling"
      ],
      "metadata": {
        "id": "lDfPKaR7R4Wh"
      },
      "execution_count": null,
      "outputs": []
    },
    {
      "cell_type": "code",
      "source": [
        "luas, keliling = describe_persegi_panjang(10,5)"
      ],
      "metadata": {
        "id": "EIofeoSyTVdr"
      },
      "execution_count": null,
      "outputs": []
    },
    {
      "cell_type": "code",
      "source": [
        "print(luas)\n",
        "print(keliling)"
      ],
      "metadata": {
        "id": "4MMGLNf1Thrd"
      },
      "execution_count": null,
      "outputs": []
    },
    {
      "cell_type": "code",
      "source": [
        "#default argument\n",
        "def luas_lingkaran(jari2, phi=3.14): #kalo menentukan default di belakang\n",
        "  \"\"\"tujuan dari function ini untuk menghitung\n",
        "  luas dari sebuah lingkara\"\"\"\n",
        "  return phi*jari2*jari2"
      ],
      "metadata": {
        "id": "a4ZwZlF5T0_3"
      },
      "execution_count": null,
      "outputs": []
    },
    {
      "cell_type": "code",
      "source": [
        "hasil_luas_lingkaran = luas_lingkaran(7) #jadi tidak usah assign nilai phi lagi\n",
        "hasil_luas_lingkaran"
      ],
      "metadata": {
        "id": "3PaHQHg2UJAP"
      },
      "execution_count": null,
      "outputs": []
    },
    {
      "cell_type": "code",
      "source": [
        "#global and local\n",
        "def luas_lingkaran2(jari2, phi=3.14): #kalo menentukan default di belakang\n",
        "  \"\"\"tujuan dari function ini untuk menghitung\n",
        "  luas dari sebuah lingkara\"\"\"\n",
        "  global luas_lingkaran_func\n",
        "  luas_lingkaran_func = phi*jari2*jari2\n",
        "  return luas_lingkaran_func"
      ],
      "metadata": {
        "id": "Arw009ajVBqE"
      },
      "execution_count": null,
      "outputs": []
    },
    {
      "cell_type": "code",
      "source": [
        "hasil_luas_lingkaran2 = luas_lingkaran2(14)\n",
        "hasil_luas_lingkaran2"
      ],
      "metadata": {
        "colab": {
          "base_uri": "https://localhost:8080/"
        },
        "id": "0B-iOPyzWlxU",
        "outputId": "36caa5eb-06bc-4418-a477-50fa29d05364"
      },
      "execution_count": null,
      "outputs": [
        {
          "output_type": "execute_result",
          "data": {
            "text/plain": [
              "615.44"
            ]
          },
          "metadata": {},
          "execution_count": 48
        }
      ]
    },
    {
      "cell_type": "code",
      "source": [
        "phi = 3.14\n",
        "jari = 7\n",
        "hasil_luas_lingkaran_lambda = lambda phi, jari: phi*jari*jari\n",
        "hasil_luas_lingkaran_lambda(phi, jari)"
      ],
      "metadata": {
        "colab": {
          "base_uri": "https://localhost:8080/"
        },
        "id": "FrOGlxfJWDc_",
        "outputId": "3c060a05-fe21-41d6-cfc6-aab0865c3644"
      },
      "execution_count": null,
      "outputs": [
        {
          "output_type": "execute_result",
          "data": {
            "text/plain": [
              "153.86"
            ]
          },
          "metadata": {},
          "execution_count": 54
        }
      ]
    },
    {
      "cell_type": "code",
      "source": [
        "#*args #mau input berapa aja bisa\n",
        "def tambahkan_semua_input(*args):\n",
        "  sum_all = 0\n",
        "  for i in args:\n",
        "    sum_all += i\n",
        "  print(sum_all)"
      ],
      "metadata": {
        "id": "3hS5T-h_Xkki"
      },
      "execution_count": null,
      "outputs": []
    },
    {
      "cell_type": "code",
      "source": [
        "tambahkan_semua_input(1,2,3,4,5,6,7,8,9,10,11,12)"
      ],
      "metadata": {
        "id": "kYM5CYN5Xwaj"
      },
      "execution_count": null,
      "outputs": []
    },
    {
      "cell_type": "code",
      "source": [
        "def print_semua_input(**kwargs):\n",
        "  print(kwargs)\n",
        "  for key, value in kwargs.items():\n",
        "    print(key, ':', value)\n",
        "    print('\\n')"
      ],
      "metadata": {
        "id": "qBo-K1SeYO9Y"
      },
      "execution_count": null,
      "outputs": []
    },
    {
      "cell_type": "code",
      "source": [
        "print_semua_input(name='zhafar',name2='tri')"
      ],
      "metadata": {
        "colab": {
          "base_uri": "https://localhost:8080/"
        },
        "id": "P2mo81gpYe4O",
        "outputId": "5cddd05a-d0bd-4481-ba84-4fc7aeac8554"
      },
      "execution_count": null,
      "outputs": [
        {
          "output_type": "stream",
          "name": "stdout",
          "text": [
            "{'name': 'zhafar', 'name2': 'tri'}\n",
            "name : zhafar\n",
            "\n",
            "\n",
            "name2 : tri\n",
            "\n",
            "\n"
          ]
        }
      ]
    },
    {
      "cell_type": "code",
      "source": [
        "def check_prime(n):\n",
        "  if n < 2:\n",
        "    return False\n",
        "  elif n == 2:\n",
        "    return True\n",
        "  else:\n",
        "    prime_flag = True\n",
        "    \n",
        "    for i in range(2, n):\n",
        "      if (n % i == 0) and (prime_flag == True) :\n",
        "        prime_flag = False\n",
        "\n",
        "    return prime_flag\n",
        "\n",
        "a = check_prime(2)\n",
        "print(a)\n"
      ],
      "metadata": {
        "colab": {
          "base_uri": "https://localhost:8080/"
        },
        "id": "km20LqYhdy0C",
        "outputId": "785dd6b6-28dd-4158-b371-77fe30548460"
      },
      "execution_count": null,
      "outputs": [
        {
          "output_type": "stream",
          "name": "stdout",
          "text": [
            "True\n"
          ]
        }
      ]
    },
    {
      "cell_type": "code",
      "source": [
        "check_prime(5)"
      ],
      "metadata": {
        "colab": {
          "base_uri": "https://localhost:8080/"
        },
        "id": "J3fk4m2-d7lB",
        "outputId": "5a091c86-b8c2-4afd-a50e-e87069d43b9f"
      },
      "execution_count": null,
      "outputs": [
        {
          "output_type": "execute_result",
          "data": {
            "text/plain": [
              "True"
            ]
          },
          "metadata": {},
          "execution_count": 91
        }
      ]
    },
    {
      "cell_type": "code",
      "source": [
        "import random\n",
        "input_list= random.randrange(1, 10000, 1)\n",
        "input_list"
      ],
      "metadata": {
        "colab": {
          "base_uri": "https://localhost:8080/"
        },
        "id": "Rqm1D79e6rRV",
        "outputId": "1ad85a2e-d80b-4277-b8be-3a877801ec2a"
      },
      "execution_count": 72,
      "outputs": [
        {
          "output_type": "execute_result",
          "data": {
            "text/plain": [
              "9435"
            ]
          },
          "metadata": {},
          "execution_count": 72
        }
      ]
    },
    {
      "cell_type": "code",
      "source": [
        "def cek_palindrom(input_list):\n",
        "  '''untuk cek variabel input_list termasuk\n",
        "  bilangan palindrom atau bukan\n",
        "  '''\n",
        "  sementara = input_list\n",
        "  terbalik = 0\n",
        "  while sementara >0:\n",
        "    sisa = sementara % 10\n",
        "    terbalik = (terbalik*10) + sisa\n",
        "    sementara //= 10\n",
        "  return input_list == terbalik"
      ],
      "metadata": {
        "id": "RK-m6MpO66m4"
      },
      "execution_count": 63,
      "outputs": []
    },
    {
      "cell_type": "code",
      "source": [
        "if cek_palindrom(input_list) == True:\n",
        "  print(\"bilangan input merupakan bilangan palindrom\")\n",
        "else:\n",
        "  print(\"bilangan input bukan merupakan bilangan palindrom\")"
      ],
      "metadata": {
        "colab": {
          "base_uri": "https://localhost:8080/"
        },
        "id": "gQQ79uIY9nmI",
        "outputId": "0e257f10-1901-4aba-829b-a587ea5f4668"
      },
      "execution_count": 71,
      "outputs": [
        {
          "output_type": "stream",
          "name": "stdout",
          "text": [
            "bilangan input merupakan bilangan palindrom\n"
          ]
        }
      ]
    }
  ]
}