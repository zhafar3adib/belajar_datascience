{
  "nbformat": 4,
  "nbformat_minor": 0,
  "metadata": {
    "colab": {
      "name": "Week 4 - Session 12.ipynb",
      "provenance": []
    },
    "kernelspec": {
      "name": "python3",
      "display_name": "Python 3"
    },
    "language_info": {
      "name": "python"
    }
  },
  "cells": [
    {
      "cell_type": "code",
      "execution_count": null,
      "metadata": {
        "id": "pGftFzrmnQA3"
      },
      "outputs": [],
      "source": [
        "bilangan_ganjil = [1,3,5,7,9]"
      ]
    },
    {
      "cell_type": "code",
      "source": [
        "print(bilangan_ganjil)"
      ],
      "metadata": {
        "colab": {
          "base_uri": "https://localhost:8080/"
        },
        "id": "TTCLJnfQsJN7",
        "outputId": "535311f2-d61b-46d6-c35d-99d7efce769a"
      },
      "execution_count": null,
      "outputs": [
        {
          "output_type": "stream",
          "name": "stdout",
          "text": [
            "[1, 3, 5, 7, 9]\n"
          ]
        }
      ]
    },
    {
      "cell_type": "code",
      "source": [
        "#menambahkan value pada akhir list\n",
        "bilangan_ganjil.append(11)"
      ],
      "metadata": {
        "id": "9VEJAd2AsOjp"
      },
      "execution_count": null,
      "outputs": []
    },
    {
      "cell_type": "code",
      "source": [
        "#menghapus seluruh value di dalam list\n",
        "bilangan_ganjil.clear()"
      ],
      "metadata": {
        "id": "maZ7xBnHsXCm"
      },
      "execution_count": null,
      "outputs": []
    },
    {
      "cell_type": "code",
      "source": [
        "#menghapus satu value paling akhir list\n",
        "bilangan_ganjil.pop()"
      ],
      "metadata": {
        "colab": {
          "base_uri": "https://localhost:8080/"
        },
        "id": "wzDC4bEuskDQ",
        "outputId": "779396b9-69a0-4614-90ce-44009baf37d3"
      },
      "execution_count": null,
      "outputs": [
        {
          "output_type": "execute_result",
          "data": {
            "text/plain": [
              "11"
            ]
          },
          "metadata": {},
          "execution_count": 5
        }
      ]
    },
    {
      "cell_type": "code",
      "source": [
        "#menghitung banyaknya value pada list\n",
        "len(bilangan_ganjil)"
      ],
      "metadata": {
        "colab": {
          "base_uri": "https://localhost:8080/"
        },
        "id": "ck4NhxcLtKRx",
        "outputId": "7f017f19-de7c-4ded-aaa0-4d6c1bcfa316"
      },
      "execution_count": null,
      "outputs": [
        {
          "output_type": "execute_result",
          "data": {
            "text/plain": [
              "6"
            ]
          },
          "metadata": {},
          "execution_count": 8
        }
      ]
    },
    {
      "cell_type": "code",
      "source": [
        "#hapus semua value pada list dengan iterasi\n",
        "for i in range(0, len(bilangan_ganjil)):\n",
        "  bilangan_ganjil.pop()"
      ],
      "metadata": {
        "id": "aCwvXM-7tT-4"
      },
      "execution_count": null,
      "outputs": []
    },
    {
      "cell_type": "code",
      "source": [
        "#untuk mengcopy value, kalo  value di bilangan_ganjil2\n",
        "#berubah, maka value di bilangan_ganjil berubah juga. dan sebaliknya\n",
        "bilangan_ganjil2 = bilangan_ganjil.copy()\n",
        "bilangan_ganjil2"
      ],
      "metadata": {
        "colab": {
          "base_uri": "https://localhost:8080/"
        },
        "id": "R6Zh3LOKtyC9",
        "outputId": "fcadbb9c-60e7-4504-a23c-171d75895fa0"
      },
      "execution_count": null,
      "outputs": [
        {
          "output_type": "execute_result",
          "data": {
            "text/plain": [
              "[1, 3, 5, 7, 9, 11]"
            ]
          },
          "metadata": {},
          "execution_count": 10
        }
      ]
    },
    {
      "cell_type": "code",
      "source": [
        "#menghitung ada berapa banyak value di dalam list\n",
        "bilangan_ganjil.count(7)"
      ],
      "metadata": {
        "colab": {
          "base_uri": "https://localhost:8080/"
        },
        "id": "DKfrQINzupDz",
        "outputId": "80f9d245-9480-4d27-af00-9bb05cfeb427"
      },
      "execution_count": null,
      "outputs": [
        {
          "output_type": "execute_result",
          "data": {
            "text/plain": [
              "1"
            ]
          },
          "metadata": {},
          "execution_count": 11
        }
      ]
    },
    {
      "cell_type": "code",
      "source": [
        "#menambahkan item dari list ke list lain\n",
        "#list bilangan_genap dimasukan ke list_bilangan_ganjil3\n",
        "bilangan_genap = [2,4,6,8]\n",
        "bilangan_ganjil3 = [1,3,5,7,9]\n",
        "bilangan_ganjil3.extend(bilangan_genap)\n",
        "bilangan_ganjil3"
      ],
      "metadata": {
        "colab": {
          "base_uri": "https://localhost:8080/"
        },
        "id": "QTDa-FvjuwaF",
        "outputId": "9d0e840e-d97f-4b94-c9d8-52a277ed5f06"
      },
      "execution_count": null,
      "outputs": [
        {
          "output_type": "execute_result",
          "data": {
            "text/plain": [
              "[1, 3, 5, 7, 9, 2, 4, 6, 8]"
            ]
          },
          "metadata": {},
          "execution_count": 13
        }
      ]
    },
    {
      "cell_type": "code",
      "source": [
        "#mencari sebuah value ada di index ke berapa?\n",
        "bilangan_ganjil.index(3)"
      ],
      "metadata": {
        "colab": {
          "base_uri": "https://localhost:8080/"
        },
        "id": "NwuYxdnRwSp2",
        "outputId": "50112f95-400a-4eee-8540-c1d514932cc2"
      },
      "execution_count": null,
      "outputs": [
        {
          "output_type": "execute_result",
          "data": {
            "text/plain": [
              "1"
            ]
          },
          "metadata": {},
          "execution_count": 120
        }
      ]
    },
    {
      "cell_type": "code",
      "source": [
        "#masukin value 13 sebelum jadi index ke 5\n",
        "bilangan_ganjil.insert(5,13)"
      ],
      "metadata": {
        "id": "BfrpXSS-wiJu"
      },
      "execution_count": null,
      "outputs": []
    },
    {
      "cell_type": "code",
      "source": [
        "#menghapus value tertentu\n",
        "bilangan_ganjil.remove(13)"
      ],
      "metadata": {
        "id": "4tKXdAFTw5Rc"
      },
      "execution_count": null,
      "outputs": []
    },
    {
      "cell_type": "code",
      "source": [
        "#jadi kebalik indexnya\n",
        "bilangan_ganjil3.reverse()\n",
        "bilangan_ganjil3"
      ],
      "metadata": {
        "id": "zdvlhGrLxB9P"
      },
      "execution_count": null,
      "outputs": []
    },
    {
      "cell_type": "code",
      "source": [
        "bilangan_ganjil3.sort() #ascending\n",
        "bilangan_ganjil3.sort(reverse = True) #descending\n",
        "bilangan_ganjil3"
      ],
      "metadata": {
        "colab": {
          "base_uri": "https://localhost:8080/"
        },
        "id": "SuG-CDAUxTuG",
        "outputId": "1a33190f-4fa5-4935-95f1-63c4554de593"
      },
      "execution_count": null,
      "outputs": [
        {
          "output_type": "execute_result",
          "data": {
            "text/plain": [
              "[9, 8, 7, 6, 5, 4, 3, 2, 1]"
            ]
          },
          "metadata": {},
          "execution_count": 34
        }
      ]
    },
    {
      "cell_type": "code",
      "source": [
        "a = 0\n",
        "b = 1\n",
        "c = 0\n",
        "list_ganjil = []\n",
        "while c <= 50:\n",
        "  if a %2 != 0:\n",
        "    list_ganjil.append(a)\n",
        "  c = a + b\n",
        "  a = b\n",
        "  b = c\n",
        "  \n",
        "print(list_ganjil)"
      ],
      "metadata": {
        "colab": {
          "base_uri": "https://localhost:8080/"
        },
        "id": "CNH8X1jV1B2x",
        "outputId": "542bd796-fa98-4a0a-b2b8-c3f5177e5c60"
      },
      "execution_count": null,
      "outputs": [
        {
          "output_type": "stream",
          "name": "stdout",
          "text": [
            "[1, 1, 3, 5, 13, 21]\n"
          ]
        }
      ]
    },
    {
      "cell_type": "code",
      "source": [
        "bilangan_ganjil4 = []\n",
        "for i in range(0,50):\n",
        "  if i % 2 != 0:\n",
        "    bilangan_ganjil4.append(i)\n",
        "\n",
        "bilangan_ganjil4\n",
        "\n"
      ],
      "metadata": {
        "id": "UzWtCcqY1esK"
      },
      "execution_count": null,
      "outputs": []
    },
    {
      "cell_type": "code",
      "source": [
        "n = 50\n",
        "n1, n2 = 0, 1\n",
        "count = 0\n",
        "list = []\n",
        "\n",
        "while n1 <= n:\n",
        "    if n1 % 2 != 0:\n",
        "      list.append(n1)\n",
        "    \n",
        "    fibonacci = n1 + n2\n",
        "    n1 = n2\n",
        "    n2 = fibonacci\n",
        "    count += 1\n",
        "\n",
        "print(list)\n"
      ],
      "metadata": {
        "colab": {
          "base_uri": "https://localhost:8080/"
        },
        "id": "FPKo-awH269Q",
        "outputId": "2301d316-2711-4ccb-ef03-85bf68cf87d4"
      },
      "execution_count": null,
      "outputs": [
        {
          "output_type": "stream",
          "name": "stdout",
          "text": [
            "[1, 1, 3, 5, 13, 21]\n"
          ]
        }
      ]
    },
    {
      "cell_type": "code",
      "source": [
        "n = 50\n",
        "n1, n2 = 0, 1\n",
        "count = 0\n",
        "list_ganjil = []\n",
        "list_genap = []\n",
        "\n",
        "while n1 <= n:\n",
        "    if n1 % 2 != 0:\n",
        "      list_ganjil.append(n1)\n",
        "    else:\n",
        "      list_genap.append(n1)\n",
        "    \n",
        "    fibonacci = n1 + n2\n",
        "    n1 = n2\n",
        "    n2 = fibonacci\n",
        "    count += 1\n",
        "\n",
        "print(list_ganjil)\n",
        "print(list_genap)\n"
      ],
      "metadata": {
        "colab": {
          "base_uri": "https://localhost:8080/"
        },
        "id": "fJWV2y9f29xz",
        "outputId": "d36abc62-da4b-496a-cc99-017ae1294ed9"
      },
      "execution_count": null,
      "outputs": [
        {
          "output_type": "stream",
          "name": "stdout",
          "text": [
            "[1, 1, 3, 5, 13, 21]\n",
            "[0, 2, 8, 34]\n"
          ]
        }
      ]
    },
    {
      "cell_type": "code",
      "source": [
        "user = [{\n",
        "    'name':'Krian',\n",
        "    'platform':'Web',\n",
        "    'transaksi':[{\n",
        "        'namaproduk':'sabun',\n",
        "        'harga':5000,\n",
        "        'kuantitas':3,\n",
        "        'kategori':'alat mandi'\n",
        "    }]\n",
        "},\n",
        "{\n",
        "    'name':'Krian2',\n",
        "    'platform':'Web',\n",
        "    'transaksi':[{\n",
        "        'namaproduk':'sabun',\n",
        "        'harga':5000,\n",
        "        'kuantitas':2,\n",
        "        'kategori':'alat mandi'\n",
        "    }]\n",
        "}]"
      ],
      "metadata": {
        "id": "ovWUVMil4MgT"
      },
      "execution_count": null,
      "outputs": []
    },
    {
      "cell_type": "code",
      "source": [
        "user[1]['transaksi']"
      ],
      "metadata": {
        "colab": {
          "base_uri": "https://localhost:8080/"
        },
        "id": "Pq1oL88Z4l6_",
        "outputId": "6cc3f7f5-fafe-419b-ba19-d6f739bebc85"
      },
      "execution_count": null,
      "outputs": [
        {
          "output_type": "execute_result",
          "data": {
            "text/plain": [
              "[{'harga': 5000,\n",
              "  'kategori': 'alat mandi',\n",
              "  'kuantitas': 2,\n",
              "  'namaproduk': 'sabun'}]"
            ]
          },
          "metadata": {},
          "execution_count": 71
        }
      ]
    },
    {
      "cell_type": "code",
      "source": [
        "import pandas as pd\n",
        "\n",
        "data = [1,2,3],[4,5,6],[7,8,9]\n",
        "\n",
        "df = pd.DataFrame(data)\n",
        "print(df)"
      ],
      "metadata": {
        "colab": {
          "base_uri": "https://localhost:8080/"
        },
        "id": "m0JqVXS36ey_",
        "outputId": "b4fa1a60-7a07-4601-a43f-abe04ee870e3"
      },
      "execution_count": null,
      "outputs": [
        {
          "output_type": "stream",
          "name": "stdout",
          "text": [
            "   0  1  2\n",
            "0  1  2  3\n",
            "1  4  5  6\n",
            "2  7  8  9\n"
          ]
        }
      ]
    },
    {
      "cell_type": "code",
      "source": [
        "df[[0]].sum()"
      ],
      "metadata": {
        "colab": {
          "base_uri": "https://localhost:8080/"
        },
        "id": "Jh472-IZ7RBf",
        "outputId": "25dcedee-1f22-42e5-8824-ac00e27d949c"
      },
      "execution_count": null,
      "outputs": [
        {
          "output_type": "execute_result",
          "data": {
            "text/plain": [
              "0    12\n",
              "dtype: int64"
            ]
          },
          "metadata": {},
          "execution_count": 74
        }
      ]
    },
    {
      "cell_type": "code",
      "source": [
        "data = [['sikat',2,3000],['gigi',2,4000],['odol',8,12388]]\n",
        "\n",
        "df = pd.DataFrame(data)\n",
        "df.columns = ['nama produk','banyaknya','harga']\n",
        "print(df)"
      ],
      "metadata": {
        "colab": {
          "base_uri": "https://localhost:8080/"
        },
        "id": "9dlg9en67aY_",
        "outputId": "603b3639-7b4d-4e34-d6ee-7bda585e1fda"
      },
      "execution_count": null,
      "outputs": [
        {
          "output_type": "stream",
          "name": "stdout",
          "text": [
            "  nama produk  banyaknya  harga\n",
            "0       sikat          2   3000\n",
            "1        gigi          2   4000\n",
            "2        odol          8  12388\n"
          ]
        }
      ]
    },
    {
      "cell_type": "code",
      "source": [
        "df[['banyaknya']].sum()"
      ],
      "metadata": {
        "colab": {
          "base_uri": "https://localhost:8080/"
        },
        "id": "TW2j0nze8z7W",
        "outputId": "fdd71d50-7027-4927-e69a-e813f5dbbc85"
      },
      "execution_count": null,
      "outputs": [
        {
          "output_type": "execute_result",
          "data": {
            "text/plain": [
              "banyaknya    12\n",
              "dtype: int64"
            ]
          },
          "metadata": {},
          "execution_count": 81
        }
      ]
    },
    {
      "cell_type": "code",
      "source": [
        "df[['banyaknya']].sum().values[0]*df[['harga']].sum().values[0]"
      ],
      "metadata": {
        "colab": {
          "base_uri": "https://localhost:8080/"
        },
        "id": "TY6CAgvj8-zS",
        "outputId": "f27d8247-2dc0-44e0-87da-80a8035be9db"
      },
      "execution_count": null,
      "outputs": [
        {
          "output_type": "execute_result",
          "data": {
            "text/plain": [
              "232656"
            ]
          },
          "metadata": {},
          "execution_count": 90
        }
      ]
    },
    {
      "cell_type": "code",
      "source": [
        "data2 = [['sikat',2,3000],['gigi',2,4000],['odol',8,12388]]\n",
        "\n",
        "total = 0\n",
        "for i in data2:\n",
        "  total = i[1]\n",
        "\n",
        "print(total)"
      ],
      "metadata": {
        "colab": {
          "base_uri": "https://localhost:8080/"
        },
        "id": "h-8dixBP8j8e",
        "outputId": "cc38259c-4dcc-4594-d4dd-51e50f8a1d5e"
      },
      "execution_count": null,
      "outputs": [
        {
          "output_type": "stream",
          "name": "stdout",
          "text": [
            "8\n"
          ]
        }
      ]
    },
    {
      "cell_type": "code",
      "source": [
        "n1, n2 = 0, 1\n",
        "n_prime = 50\n",
        "while(n1 <= n_prime):\n",
        "    count = 0\n",
        "    i = 2\n",
        "    while(i <= n1//2):\n",
        "        if(n1 % i == 0):\n",
        "            count += 1\n",
        "            break\n",
        "        i += 1\n",
        "    if (count == 0 and n1!= 1):\n",
        "        print(n1)\n",
        "    fibonacci = n1 + n2\n",
        "    n1 = n2\n",
        "    n2 = fibonacci\n"
      ],
      "metadata": {
        "colab": {
          "base_uri": "https://localhost:8080/"
        },
        "id": "7xjctkcbBiCN",
        "outputId": "329ce5c4-417e-4785-a1ee-28fc6c77a72c"
      },
      "execution_count": null,
      "outputs": [
        {
          "output_type": "stream",
          "name": "stdout",
          "text": [
            "0\n",
            "2\n",
            "3\n",
            "5\n",
            "13\n"
          ]
        }
      ]
    },
    {
      "cell_type": "code",
      "source": [
        "import random\n",
        "input_list= [random.randrange(1, 50, 1) for i in range(10)]\n",
        "input_list"
      ],
      "metadata": {
        "colab": {
          "base_uri": "https://localhost:8080/"
        },
        "id": "_LVAZY9CA-e4",
        "outputId": "ff40658a-d8b7-4178-e300-305abf7cbeff"
      },
      "execution_count": null,
      "outputs": [
        {
          "output_type": "execute_result",
          "data": {
            "text/plain": [
              "[12, 7, 9, 43, 23, 16, 12, 15, 12, 29]"
            ]
          },
          "metadata": {},
          "execution_count": 4
        }
      ]
    },
    {
      "cell_type": "code",
      "source": [
        "while 5 in input_list:\n",
        "  pengecualian1 = input_list.index(5)\n",
        "  input_list = input_list[0:pengecualian1]+input_list[pengecualian1+1:9]\n",
        "  while 6 in input_list:\n",
        "    pengecualian2 = input_list.index(6)\n",
        "    input_list = input_list[0:pengecualian2]+input_list[pengecualian2+1:9]\n",
        "print(sum(input_list))\n"
      ],
      "metadata": {
        "colab": {
          "base_uri": "https://localhost:8080/"
        },
        "id": "LUDjhLeLEFqK",
        "outputId": "d4e615a4-d1d9-4436-945a-32b729cf02cf"
      },
      "execution_count": null,
      "outputs": [
        {
          "output_type": "stream",
          "name": "stdout",
          "text": [
            "178\n"
          ]
        }
      ]
    }
  ]
}