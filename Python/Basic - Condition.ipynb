{
  "nbformat": 4,
  "nbformat_minor": 0,
  "metadata": {
    "colab": {
      "name": "Week 4 - Session 10",
      "provenance": []
    },
    "kernelspec": {
      "name": "python3",
      "display_name": "Python 3"
    },
    "language_info": {
      "name": "python"
    }
  },
  "cells": [
    {
      "cell_type": "code",
      "execution_count": null,
      "metadata": {
        "id": "e3wbQ8hT4qf3"
      },
      "outputs": [],
      "source": [
        "cat = 'haus'"
      ]
    },
    {
      "cell_type": "code",
      "source": [
        "if cat == 'hungry':\n",
        "  print('kasih makan')"
      ],
      "metadata": {
        "colab": {
          "base_uri": "https://localhost:8080/"
        },
        "id": "-e0LqatzF-u3",
        "outputId": "30f152fe-1bc4-4735-c4dd-996cd145c1f0"
      },
      "execution_count": null,
      "outputs": [
        {
          "output_type": "stream",
          "name": "stdout",
          "text": [
            "kasih makan\n"
          ]
        }
      ]
    },
    {
      "cell_type": "code",
      "source": [
        "cat_hungry = True\n",
        " \n",
        "if cat_hungry:\n",
        "  print('kasih makan')\n",
        "  #untuk variabel bertipe boolean, bisa kayak gini"
      ],
      "metadata": {
        "colab": {
          "base_uri": "https://localhost:8080/"
        },
        "id": "W0EUuawfGL05",
        "outputId": "07fc7e82-6abe-49f8-e363-9a292d544cc9"
      },
      "execution_count": null,
      "outputs": [
        {
          "output_type": "stream",
          "name": "stdout",
          "text": [
            "kasih makan\n"
          ]
        }
      ]
    },
    {
      "cell_type": "code",
      "source": [
        "cat = 'haus'\n",
        "if cat == 'hungry':\n",
        "  print('kasih makan')\n",
        "else:\n",
        "  print('kasih minum')\n",
        "\n",
        "#kayak gini gak direkomendasikan, \n",
        "#karena bisa jadi nilai variabel bukan hungry atau thirsty saja"
      ],
      "metadata": {
        "colab": {
          "base_uri": "https://localhost:8080/"
        },
        "id": "NpwCtxpYGkWX",
        "outputId": "4322b6d3-71c1-4696-e965-0a0f0fd8b4ba"
      },
      "execution_count": null,
      "outputs": [
        {
          "output_type": "stream",
          "name": "stdout",
          "text": [
            "kasih minum\n"
          ]
        }
      ]
    },
    {
      "cell_type": "code",
      "source": [
        "cat = 'ngantuk'\n",
        "if cat == 'hungry':\n",
        "  print('kasih makan')\n",
        "elif cat == 'haus':\n",
        "  print('kasih minum')\n",
        "else:\n",
        "  print('gatau harus apa')\n"
      ],
      "metadata": {
        "colab": {
          "base_uri": "https://localhost:8080/"
        },
        "id": "Qv9w-0YIHAl6",
        "outputId": "ce22d612-1241-4ca0-df73-d3c056e117b7"
      },
      "execution_count": null,
      "outputs": [
        {
          "output_type": "stream",
          "name": "stdout",
          "text": [
            "gatau harus apa\n"
          ]
        }
      ]
    },
    {
      "cell_type": "code",
      "source": [
        "tujuan = 'luar negeri'\n",
        "negara = 'Belanda'\n",
        "akomodasi = 'pesawat'\n",
        "peserta = 4\n",
        "\n",
        "if tujuan == 'dalam negeri' and akomodasi == 'pesawat':\n",
        "  if peserta < 5:\n",
        "    print('perkiraan budget sebesar 4 juta rupiah')\n",
        "  else:\n",
        "    print('perkiraan budget sebesar 7 juta rupiah')\n",
        "elif tujuan == 'dalam negeri' and akomodasi == 'mobil':\n",
        "  print('perkiraan budget sebesar 800 ribu rupiah')"
      ],
      "metadata": {
        "id": "l6xBVatFHiq9"
      },
      "execution_count": null,
      "outputs": []
    },
    {
      "cell_type": "code",
      "source": [
        "if tujuan == 'luar negeri' and akomodasi == 'pesawat' and (negara == 'Belanda' or negara == 'Spanyol') and peserta < 5:\n",
        "  print ('perkiraan budget 20 juta')\n",
        "elif tujuan == 'luar negeri' and akomodasi == 'pesawat' and (negara == 'Belanda' or negara == 'Spanyol') and peserta > 5:\n",
        "  print ('perkiraan budget 25 juta')"
      ],
      "metadata": {
        "colab": {
          "base_uri": "https://localhost:8080/"
        },
        "id": "-zD0Dh7KJJg-",
        "outputId": "45a576d8-c77e-4f44-eb01-fd33d94b81a7"
      },
      "execution_count": null,
      "outputs": [
        {
          "output_type": "stream",
          "name": "stdout",
          "text": [
            "perkiraan budget 20 juta\n"
          ]
        }
      ]
    },
    {
      "cell_type": "code",
      "source": [
        "input = 3\n",
        "print('ini bilangan genap') if input % 2 == 0 else print ('ini bilangan ganjil')"
      ],
      "metadata": {
        "colab": {
          "base_uri": "https://localhost:8080/"
        },
        "id": "FDL763S4KtWZ",
        "outputId": "042ff1e1-0da3-4800-a698-54cdac7951d3"
      },
      "execution_count": null,
      "outputs": [
        {
          "output_type": "stream",
          "name": "stdout",
          "text": [
            "ini bilangan ganjil\n"
          ]
        }
      ]
    },
    {
      "cell_type": "code",
      "source": [
        "x = 'b'\n",
        "if not (x == 'a'):\n",
        "  print('Not A')"
      ],
      "metadata": {
        "colab": {
          "base_uri": "https://localhost:8080/"
        },
        "id": "cfRjT71iMdyM",
        "outputId": "b1002044-c074-489f-b783-c4a28f686a7e"
      },
      "execution_count": null,
      "outputs": [
        {
          "output_type": "stream",
          "name": "stdout",
          "text": [
            "Not A\n"
          ]
        }
      ]
    },
    {
      "cell_type": "code",
      "source": [
        "x= 'b'\n",
        "if x != \"a\":\n",
        "  print('Not A')"
      ],
      "metadata": {
        "colab": {
          "base_uri": "https://localhost:8080/"
        },
        "id": "fbRp2WrcOApZ",
        "outputId": "f22ad5c8-dadb-455b-8d65-b71c8b6d9489"
      },
      "execution_count": null,
      "outputs": [
        {
          "output_type": "stream",
          "name": "stdout",
          "text": [
            "Not A\n"
          ]
        }
      ]
    },
    {
      "cell_type": "code",
      "source": [
        "x is not \"a\""
      ],
      "metadata": {
        "colab": {
          "base_uri": "https://localhost:8080/"
        },
        "id": "cjBWJuoRPlQE",
        "outputId": "0b57abdc-bcc1-454d-885d-9be297cbe057"
      },
      "execution_count": null,
      "outputs": [
        {
          "output_type": "execute_result",
          "data": {
            "text/plain": [
              "True"
            ]
          },
          "metadata": {},
          "execution_count": 49
        }
      ]
    },
    {
      "cell_type": "code",
      "source": [
        "input = 5\n",
        "#yang ke print adalah kondisi yang pertama kali terpenuhi\n",
        "if input <=5:\n",
        "  print('kurang dari samadengan 5')\n",
        "elif input >= 5:\n",
        "  print('lebih dari samadengan dari 5')\n"
      ],
      "metadata": {
        "colab": {
          "base_uri": "https://localhost:8080/"
        },
        "id": "I0YwzPM9RXWi",
        "outputId": "7d1cf01f-0698-4ee0-c979-7e19ab788352"
      },
      "execution_count": null,
      "outputs": [
        {
          "output_type": "stream",
          "name": "stdout",
          "text": [
            "kurang dari samadengan 5\n"
          ]
        }
      ]
    },
    {
      "cell_type": "code",
      "source": [
        "!pip install -U scikit-learn\n",
        "#install package di google collaborator untuk sementara"
      ],
      "metadata": {
        "colab": {
          "base_uri": "https://localhost:8080/"
        },
        "id": "VTVNzS7TPAAG",
        "outputId": "341f0918-c58d-4553-acf3-a55cfb8d782d"
      },
      "execution_count": null,
      "outputs": [
        {
          "output_type": "stream",
          "name": "stdout",
          "text": [
            "Requirement already satisfied: scikit-learn in /usr/local/lib/python3.7/dist-packages (1.0.2)\n",
            "Requirement already satisfied: joblib>=0.11 in /usr/local/lib/python3.7/dist-packages (from scikit-learn) (1.1.0)\n",
            "Requirement already satisfied: scipy>=1.1.0 in /usr/local/lib/python3.7/dist-packages (from scikit-learn) (1.4.1)\n",
            "Requirement already satisfied: threadpoolctl>=2.0.0 in /usr/local/lib/python3.7/dist-packages (from scikit-learn) (3.0.0)\n",
            "Requirement already satisfied: numpy>=1.14.6 in /usr/local/lib/python3.7/dist-packages (from scikit-learn) (1.19.5)\n"
          ]
        }
      ]
    },
    {
      "cell_type": "code",
      "source": [
        "umur = 20\n",
        "remaja = True if umur <19 else False\n",
        "print(remaja) \n",
        "#assign variabel pake if else"
      ],
      "metadata": {
        "colab": {
          "base_uri": "https://localhost:8080/"
        },
        "id": "fLtPGsxjRNjw",
        "outputId": "424b4cc9-2a05-4a8b-c178-650188417152"
      },
      "execution_count": null,
      "outputs": [
        {
          "output_type": "stream",
          "name": "stdout",
          "text": [
            "False\n"
          ]
        }
      ]
    },
    {
      "cell_type": "code",
      "source": [
        "if umur < 19:\n",
        "  remaja = True\n",
        "else:\n",
        "  remaja = False\n",
        "#contoh lain assign variabel pake if else\n"
      ],
      "metadata": {
        "id": "elTi4xXdZ0uT"
      },
      "execution_count": null,
      "outputs": []
    },
    {
      "cell_type": "code",
      "source": [
        "data_diri = {'nama':'zhafar tri adib','jenis kelamin':'laki - laki'}\n",
        "\n",
        "if data_diri['jenis kelamin'] == 'laki - laki':\n",
        "  print('Sewaktu sekolah, saya menggunakan celana panjang berwarna abu')\n",
        "elif data_diri['jenis kelamin'] == 'perempuan':\n",
        "  print('Sewaktu sekolah, saya menggunakan rok berwarna abu')"
      ],
      "metadata": {
        "colab": {
          "base_uri": "https://localhost:8080/"
        },
        "id": "iCLPqCebjh3s",
        "outputId": "2352d3cd-33a6-4bf4-c3b9-7c1b119f07be"
      },
      "execution_count": null,
      "outputs": [
        {
          "output_type": "stream",
          "name": "stdout",
          "text": [
            "Sewaktu sekolah, saya menggunakan celana panjang berwarna abu\n"
          ]
        }
      ]
    }
  ]
}